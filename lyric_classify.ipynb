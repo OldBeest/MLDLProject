{
 "cells": [
  {
   "cell_type": "code",
   "execution_count": 61,
   "metadata": {},
   "outputs": [],
   "source": [
    "import transformers\n",
    "import torch\n",
    "import pandas as pd\n",
    "import huggingface_hub\n",
    "import pickle\n",
    "\n",
    "from tqdm import tqdm\n",
    "from torch.utils.data import DataLoader, Dataset\n",
    "from transformers import AutoTokenizer, BartForSequenceClassification, PreTrainedTokenizerFast\n",
    "from sklearn.model_selection import train_test_split\n",
    "from torch.optim import AdamW\n",
    "from transformers import get_scheduler"
   ]
  },
  {
   "cell_type": "code",
   "execution_count": 6,
   "metadata": {},
   "outputs": [],
   "source": [
    "device = torch.device(\"cuda\") if torch.cuda.is_available() else torch.device(\"cpu\")"
   ]
  },
  {
   "cell_type": "code",
   "execution_count": null,
   "metadata": {},
   "outputs": [],
   "source": [
    "tokenizer = PreTrainedTokenizerFast(tokenizer_file='tokenizer.json')"
   ]
  },
  {
   "cell_type": "code",
   "execution_count": 7,
   "metadata": {},
   "outputs": [],
   "source": [
    "class ConversationDataset(Dataset):\n",
    "    def __init__(self):\n",
    "        self.data = pd.read_csv('conv_data.csv', encoding='utf-8', index_col=0)\n",
    "        self.tokenizer = AutoTokenizer.from_pretrained('gogamza/kobart-base-v2')\n",
    "        self.emo_code = pd.read_csv('emotion_code.csv', encoding='utf-8', index_col=0)\n",
    "    \n",
    "    def __len__(self):\n",
    "        return len(self.data)\n",
    "    \n",
    "    def __getitem__(self, index):\n",
    "        train_data = tokenizer(f\"<s>{self.data.iloc[index]['conversation']}</s>\", return_tensors='pt', truncation=True, padding=\"max_length\", max_length=300)\n",
    "        train_data['label'] = torch.tensor(self.emo_code[self.emo_code['code'] == self.data.iloc[index]['emotion']].index[0])\n",
    "        return train_data.to(\"cuda\")"
   ]
  },
  {
   "cell_type": "code",
   "execution_count": 8,
   "metadata": {},
   "outputs": [
    {
     "name": "stderr",
     "output_type": "stream",
     "text": [
      "You passed along `num_labels=3` with an incompatible id to label map: {'0': 'NEGATIVE', '1': 'POSITIVE'}. The number of labels wil be overwritten to 2.\n",
      "You passed along `num_labels=3` with an incompatible id to label map: {'0': 'NEGATIVE', '1': 'POSITIVE'}. The number of labels wil be overwritten to 2.\n"
     ]
    }
   ],
   "source": [
    "dataset = ConversationDataset()"
   ]
  },
  {
   "cell_type": "code",
   "execution_count": 9,
   "metadata": {},
   "outputs": [],
   "source": [
    "train, val = train_test_split(dataset, test_size=0.2, random_state=42)\n",
    "val, test = train_test_split(val, test_size=0.5, random_state=42)"
   ]
  },
  {
   "cell_type": "code",
   "execution_count": 10,
   "metadata": {},
   "outputs": [],
   "source": [
    "train_dataset = DataLoader(train, batch_size=4, shuffle=True)\n",
    "val_dataset = DataLoader(val, batch_size=4)\n",
    "test_dataset = DataLoader(test, batch_size=4)"
   ]
  },
  {
   "cell_type": "code",
   "execution_count": 11,
   "metadata": {},
   "outputs": [],
   "source": [
    "class LyricEmotionClassifier:\n",
    "    def __init__(self):\n",
    "        self.model = BartForSequenceClassification.from_pretrained('gogamza/kobart-base-v2', num_labels=60).to(\"cuda\")\n",
    "        self.optimizer = AdamW(self.model.parameters(), lr=5e-5)\n",
    "        self.lr_scheduler = get_scheduler(\n",
    "            name=\"linear\",\n",
    "            optimizer=self.optimizer,\n",
    "            num_warmup_steps=0,\n",
    "            num_training_steps=len(train_dataset),\n",
    "        )\n",
    "        \n",
    "    def model_train(self):\n",
    "        self.model.train()\n",
    "        self.total_train_loss = 0\n",
    "        \n",
    "        for batch in tqdm(train_dataset):\n",
    "            input_ids = batch['input_ids'].to(device).squeeze()\n",
    "            attention_mask = batch['attention_mask'].to(device).squeeze()\n",
    "            labels = batch['label'].to(device)\n",
    "            outputs = self.model(input_ids=input_ids, attention_mask=attention_mask, labels=labels)\n",
    "            loss = outputs.loss\n",
    "            self.total_train_loss += loss.item()\n",
    "\n",
    "            # 역전파\n",
    "            self.optimizer.zero_grad()\n",
    "            loss.backward()\n",
    "            self.optimizer.step()\n",
    "            self.lr_scheduler.step()\n",
    "\n",
    "        avg_train_loss = self.total_train_loss / len(train_dataset)\n",
    "        print(f\"training loss: {avg_train_loss}\")"
   ]
  },
  {
   "cell_type": "code",
   "execution_count": 12,
   "metadata": {},
   "outputs": [
    {
     "name": "stderr",
     "output_type": "stream",
     "text": [
      "You passed along `num_labels=3` with an incompatible id to label map: {'0': 'NEGATIVE', '1': 'POSITIVE'}. The number of labels wil be overwritten to 2.\n",
      "Some weights of BartForSequenceClassification were not initialized from the model checkpoint at gogamza/kobart-base-v2 and are newly initialized: ['classification_head.dense.bias', 'classification_head.dense.weight', 'classification_head.out_proj.bias', 'classification_head.out_proj.weight']\n",
      "You should probably TRAIN this model on a down-stream task to be able to use it for predictions and inference.\n"
     ]
    },
    {
     "data": {
      "text/plain": [
       "<All keys matched successfully>"
      ]
     },
     "execution_count": 12,
     "metadata": {},
     "output_type": "execute_result"
    }
   ],
   "source": [
    "bart1 = LyricEmotionClassifier()\n",
    "bart1.model.load_state_dict(torch.load('bart_lyric.pt'))"
   ]
  },
  {
   "cell_type": "code",
   "execution_count": null,
   "metadata": {},
   "outputs": [],
   "source": [
    "with open('emotion_code.pkl', 'rb') as file:\n",
    "    emo_list = pickle.load(file)"
   ]
  },
  {
   "cell_type": "code",
   "execution_count": 65,
   "metadata": {},
   "outputs": [
    {
     "data": {
      "text/plain": [
       "[{'idx': 0, 'code': 'E10', 'emotion': '분노'},\n",
       " {'idx': 1, 'code': 'E11', 'emotion': '툴툴대는'},\n",
       " {'idx': 2, 'code': 'E12', 'emotion': '좌절한'},\n",
       " {'idx': 3, 'code': 'E13', 'emotion': '짜증내는'},\n",
       " {'idx': 4, 'code': 'E14', 'emotion': '방어적인'},\n",
       " {'idx': 5, 'code': 'E15', 'emotion': '악의적인'},\n",
       " {'idx': 6, 'code': 'E16', 'emotion': '안달하는'},\n",
       " {'idx': 7, 'code': 'E17', 'emotion': '구역질나는'},\n",
       " {'idx': 8, 'code': 'E18', 'emotion': '노여워하는'},\n",
       " {'idx': 9, 'code': 'E19', 'emotion': '성가신'},\n",
       " {'idx': 10, 'code': 'E20', 'emotion': '슬픔'},\n",
       " {'idx': 11, 'code': 'E21', 'emotion': '실망한'},\n",
       " {'idx': 12, 'code': 'E22', 'emotion': '비통한'},\n",
       " {'idx': 13, 'code': 'E23', 'emotion': '후회되는'},\n",
       " {'idx': 14, 'code': 'E24', 'emotion': '우울한'},\n",
       " {'idx': 15, 'code': 'E25', 'emotion': '마비된'},\n",
       " {'idx': 16, 'code': 'E26', 'emotion': '염세적인'},\n",
       " {'idx': 17, 'code': 'E27', 'emotion': '눈물이나는'},\n",
       " {'idx': 18, 'code': 'E28', 'emotion': '낙담한'},\n",
       " {'idx': 19, 'code': 'E29', 'emotion': '환멸을느끼는'},\n",
       " {'idx': 20, 'code': 'E30', 'emotion': '불안'},\n",
       " {'idx': 21, 'code': 'E31', 'emotion': '두려운'},\n",
       " {'idx': 22, 'code': 'E32', 'emotion': '스트레스받는'},\n",
       " {'idx': 23, 'code': 'E33', 'emotion': '취약한'},\n",
       " {'idx': 24, 'code': 'E34', 'emotion': '혼란스러운'},\n",
       " {'idx': 25, 'code': 'E35', 'emotion': '당혹스러운'},\n",
       " {'idx': 26, 'code': 'E36', 'emotion': '회의적인'},\n",
       " {'idx': 27, 'code': 'E37', 'emotion': '걱정스러운'},\n",
       " {'idx': 28, 'code': 'E38', 'emotion': '조심스러운'},\n",
       " {'idx': 29, 'code': 'E39', 'emotion': '초조한'},\n",
       " {'idx': 30, 'code': 'E40', 'emotion': '상처'},\n",
       " {'idx': 31, 'code': 'E41', 'emotion': '질투하는'},\n",
       " {'idx': 32, 'code': 'E42', 'emotion': '배신당한'},\n",
       " {'idx': 33, 'code': 'E43', 'emotion': '고립된'},\n",
       " {'idx': 34, 'code': 'E44', 'emotion': '충격받은'},\n",
       " {'idx': 35, 'code': 'E45', 'emotion': '가난하고불우한'},\n",
       " {'idx': 36, 'code': 'E46', 'emotion': '희생된'},\n",
       " {'idx': 37, 'code': 'E47', 'emotion': '억울한'},\n",
       " {'idx': 38, 'code': 'E48', 'emotion': '괴로워하는'},\n",
       " {'idx': 39, 'code': 'E49', 'emotion': '버려진'},\n",
       " {'idx': 40, 'code': 'E50', 'emotion': '당황'},\n",
       " {'idx': 41, 'code': 'E51', 'emotion': '고립되고당황한'},\n",
       " {'idx': 42, 'code': 'E52', 'emotion': '남의시선을의식하는'},\n",
       " {'idx': 43, 'code': 'E53', 'emotion': '외로운'},\n",
       " {'idx': 44, 'code': 'E54', 'emotion': '열등감'},\n",
       " {'idx': 45, 'code': 'E55', 'emotion': '죄책감의'},\n",
       " {'idx': 46, 'code': 'E56', 'emotion': '부끄러운'},\n",
       " {'idx': 47, 'code': 'E57', 'emotion': '혐오스러운'},\n",
       " {'idx': 48, 'code': 'E58', 'emotion': '한심한'},\n",
       " {'idx': 49, 'code': 'E59', 'emotion': '혼란스럽고당황한'},\n",
       " {'idx': 50, 'code': 'E60', 'emotion': '기쁨'},\n",
       " {'idx': 51, 'code': 'E61', 'emotion': '감사하는'},\n",
       " {'idx': 52, 'code': 'E62', 'emotion': '신뢰하는'},\n",
       " {'idx': 53, 'code': 'E63', 'emotion': '편안한'},\n",
       " {'idx': 54, 'code': 'E64', 'emotion': '만족스러운'},\n",
       " {'idx': 55, 'code': 'E65', 'emotion': '흥분'},\n",
       " {'idx': 56, 'code': 'E66', 'emotion': '느긋'},\n",
       " {'idx': 57, 'code': 'E67', 'emotion': '안도'},\n",
       " {'idx': 58, 'code': 'E68', 'emotion': '신이난'},\n",
       " {'idx': 59, 'code': 'E69', 'emotion': '자신있는'}]"
      ]
     },
     "execution_count": 65,
     "metadata": {},
     "output_type": "execute_result"
    }
   ],
   "source": [
    "emo_list"
   ]
  },
  {
   "cell_type": "code",
   "execution_count": 66,
   "metadata": {},
   "outputs": [],
   "source": [
    "emo_list1 = [{row['idx']: {'code': row['code'], 'emotion': row['emotion']} } for row in emo_list]"
   ]
  },
  {
   "cell_type": "code",
   "execution_count": 67,
   "metadata": {},
   "outputs": [
    {
     "data": {
      "text/plain": [
       "[{0: {'code': 'E10', 'emotion': '분노'}},\n",
       " {1: {'code': 'E11', 'emotion': '툴툴대는'}},\n",
       " {2: {'code': 'E12', 'emotion': '좌절한'}},\n",
       " {3: {'code': 'E13', 'emotion': '짜증내는'}},\n",
       " {4: {'code': 'E14', 'emotion': '방어적인'}},\n",
       " {5: {'code': 'E15', 'emotion': '악의적인'}},\n",
       " {6: {'code': 'E16', 'emotion': '안달하는'}},\n",
       " {7: {'code': 'E17', 'emotion': '구역질나는'}},\n",
       " {8: {'code': 'E18', 'emotion': '노여워하는'}},\n",
       " {9: {'code': 'E19', 'emotion': '성가신'}},\n",
       " {10: {'code': 'E20', 'emotion': '슬픔'}},\n",
       " {11: {'code': 'E21', 'emotion': '실망한'}},\n",
       " {12: {'code': 'E22', 'emotion': '비통한'}},\n",
       " {13: {'code': 'E23', 'emotion': '후회되는'}},\n",
       " {14: {'code': 'E24', 'emotion': '우울한'}},\n",
       " {15: {'code': 'E25', 'emotion': '마비된'}},\n",
       " {16: {'code': 'E26', 'emotion': '염세적인'}},\n",
       " {17: {'code': 'E27', 'emotion': '눈물이나는'}},\n",
       " {18: {'code': 'E28', 'emotion': '낙담한'}},\n",
       " {19: {'code': 'E29', 'emotion': '환멸을느끼는'}},\n",
       " {20: {'code': 'E30', 'emotion': '불안'}},\n",
       " {21: {'code': 'E31', 'emotion': '두려운'}},\n",
       " {22: {'code': 'E32', 'emotion': '스트레스받는'}},\n",
       " {23: {'code': 'E33', 'emotion': '취약한'}},\n",
       " {24: {'code': 'E34', 'emotion': '혼란스러운'}},\n",
       " {25: {'code': 'E35', 'emotion': '당혹스러운'}},\n",
       " {26: {'code': 'E36', 'emotion': '회의적인'}},\n",
       " {27: {'code': 'E37', 'emotion': '걱정스러운'}},\n",
       " {28: {'code': 'E38', 'emotion': '조심스러운'}},\n",
       " {29: {'code': 'E39', 'emotion': '초조한'}},\n",
       " {30: {'code': 'E40', 'emotion': '상처'}},\n",
       " {31: {'code': 'E41', 'emotion': '질투하는'}},\n",
       " {32: {'code': 'E42', 'emotion': '배신당한'}},\n",
       " {33: {'code': 'E43', 'emotion': '고립된'}},\n",
       " {34: {'code': 'E44', 'emotion': '충격받은'}},\n",
       " {35: {'code': 'E45', 'emotion': '가난하고불우한'}},\n",
       " {36: {'code': 'E46', 'emotion': '희생된'}},\n",
       " {37: {'code': 'E47', 'emotion': '억울한'}},\n",
       " {38: {'code': 'E48', 'emotion': '괴로워하는'}},\n",
       " {39: {'code': 'E49', 'emotion': '버려진'}},\n",
       " {40: {'code': 'E50', 'emotion': '당황'}},\n",
       " {41: {'code': 'E51', 'emotion': '고립되고당황한'}},\n",
       " {42: {'code': 'E52', 'emotion': '남의시선을의식하는'}},\n",
       " {43: {'code': 'E53', 'emotion': '외로운'}},\n",
       " {44: {'code': 'E54', 'emotion': '열등감'}},\n",
       " {45: {'code': 'E55', 'emotion': '죄책감의'}},\n",
       " {46: {'code': 'E56', 'emotion': '부끄러운'}},\n",
       " {47: {'code': 'E57', 'emotion': '혐오스러운'}},\n",
       " {48: {'code': 'E58', 'emotion': '한심한'}},\n",
       " {49: {'code': 'E59', 'emotion': '혼란스럽고당황한'}},\n",
       " {50: {'code': 'E60', 'emotion': '기쁨'}},\n",
       " {51: {'code': 'E61', 'emotion': '감사하는'}},\n",
       " {52: {'code': 'E62', 'emotion': '신뢰하는'}},\n",
       " {53: {'code': 'E63', 'emotion': '편안한'}},\n",
       " {54: {'code': 'E64', 'emotion': '만족스러운'}},\n",
       " {55: {'code': 'E65', 'emotion': '흥분'}},\n",
       " {56: {'code': 'E66', 'emotion': '느긋'}},\n",
       " {57: {'code': 'E67', 'emotion': '안도'}},\n",
       " {58: {'code': 'E68', 'emotion': '신이난'}},\n",
       " {59: {'code': 'E69', 'emotion': '자신있는'}}]"
      ]
     },
     "execution_count": 67,
     "metadata": {},
     "output_type": "execute_result"
    }
   ],
   "source": [
    "emo_list1"
   ]
  },
  {
   "cell_type": "code",
   "execution_count": 98,
   "metadata": {},
   "outputs": [],
   "source": [
    "def eval_emo(model, lyrics):\n",
    "    model.eval()\n",
    "    inputs = tokenizer(lyrics, return_tensors=\"pt\", padding=True, truncation=True, max_length=500)\n",
    "    print(inputs)\n",
    "    input_ids = inputs['input_ids'].to(device)\n",
    "    attention_mask = inputs['attention_mask'].to(device)\n",
    "    with torch.no_grad():\n",
    "        outputs = model(input_ids=input_ids, attention_mask=attention_mask)\n",
    "        prob = torch.nn.functional.softmax(outputs[0], dim=1).squeeze().detach().cpu().numpy()\n",
    "        label = torch.argsort(outputs[0], descending=True).squeeze().detach().cpu().numpy()\n",
    "        print(sorted(prob, reverse=True)[:5])\n",
    "        for code in label[:5]:\n",
    "            print(emo_list[code]['emotion'], end=' ')"
   ]
  },
  {
   "cell_type": "code",
   "execution_count": 111,
   "metadata": {},
   "outputs": [],
   "source": [
    "input_text = \"\"\"\n",
    "내 어린 시절 우연히 들었던 믿지 못할 한마디\n",
    "이 세상을 다 준다는 매혹적인 얘기 내게 꿈을 심어주었어\n",
    "말도 안돼 고개 저어도 내 안에 나 나를 보고 속삭여\n",
    "세상은 꿈꾸는 자의 것이라고 용기를 내 넌 할 수 있어\n",
    "쉼 없이 흘러가는 시간 이대로 보낼 수는 없잖아\n",
    "함께 도전하는 거야 너와 나 두 손을 잡고 우리들 모두의 꿈을 모아서\n",
    "외로움과 두려움이 우릴 힘들게 하여도 결코 피하지 않아\n",
    "끝없이 펼쳐진 드넓은 바다에 희망이 우리를 부르니까\n",
    "거센 바람 높은 파도가 우리 앞길 막아서도 결코 두렵지 않아\n",
    "끝없이 펼쳐진 수많은 시련들 밝은 내일 위한 거야\n",
    "말도 안돼 고개 저어도 내 안에 나 나를 보고 속삭여\n",
    "세상은 꿈꾸는 자의 것이라고 용기를 내 넌 할 수 있어\n",
    "쉼 없이 흘러가는 시간 이대로 보낼 수는 없잖아\n",
    "함께 도전하는 거야 너와 나 두 손을 잡고 우리들 모두의 꿈을 모아서\n",
    "외로움과 두려움이 우릴 힘들게 하여도 결코 피하지 않아\n",
    "끝없이 펼쳐진 드넓은 바다에 희망이 우리를 부르니까\n",
    "거센 바람 높은 파도가 우리 앞길 막아서도 결코 두렵지 않아\n",
    "끝없이 펼쳐진 수많은 시련들 밝은 내일 위한 거야\n",
    "원피스 접기\n",
    "\"\"\""
   ]
  },
  {
   "cell_type": "code",
   "execution_count": 112,
   "metadata": {},
   "outputs": [
    {
     "name": "stdout",
     "output_type": "stream",
     "text": [
      "{'input_ids': tensor([[    0, 14095,  9517, 15079, 15908, 25177, 14172, 15912, 15325, 12332,\n",
      "         17796, 19658,   230, 12034, 18105, 14056, 14450, 14090, 14174, 13700,\n",
      "         14134, 15734, 18750, 18557, 25751, 12258, 11779, 11763,   230, 10504,\n",
      "          9866, 27812, 14068,  9006, 14209, 16291, 14067, 16196, 14054, 16389,\n",
      "         14581, 14299, 11208, 11802,   230, 11285, 15978, 27814, 24373, 15751,\n",
      "         28739, 14067, 28007, 14207, 14032, 14389,   230, 11423, 14807, 17897,\n",
      "         14542, 14489, 14025, 14320, 24819, 16228, 14080, 16223,   230, 27025,\n",
      "         16523, 14049, 19454, 14567, 11863, 14054, 14196, 16512, 18398, 14199,\n",
      "          9993, 14422, 12024, 18557, 17453, 11264,   230, 11890, 10338, 24678,\n",
      "         18018, 15608, 14093, 10482, 15994,  9049, 16371,  9866, 17704, 14250,\n",
      "         14242, 15296,   230,  9480, 14997, 16566, 12335, 14340,  9553, 12005,\n",
      "         17017, 11786, 15724, 12034, 21539, 18062, 14495,   230,  9031, 11288,\n",
      "         15394, 14904, 14240, 14973, 14199, 14221,  9269, 21112, 15612, 17704,\n",
      "         14196, 10322, 12332, 15296,   230,  9480, 14997, 16566, 12335, 17672,\n",
      "         14044, 10316,  9993, 22788, 18683, 14353, 19454,   230, 10504,  9866,\n",
      "         27812, 14068,  9006, 14209, 16291, 14067, 16196, 14054, 16389, 14581,\n",
      "         14299, 11208, 11802,   230, 11285, 15978, 27814, 24373, 15751, 28739,\n",
      "         14067, 28007, 14207, 14032, 14389,   230, 11423, 14807, 17897, 14542,\n",
      "         14489, 14025, 14320, 24819, 16228, 14080, 16223,   230, 27025, 16523,\n",
      "         14049, 19454, 14567, 11863, 14054, 14196, 16512, 18398, 14199,  9993,\n",
      "         14422, 12024, 18557, 17453, 11264,   230, 11890, 10338, 24678, 18018,\n",
      "         15608, 14093, 10482, 15994,  9049, 16371,  9866, 17704, 14250, 14242,\n",
      "         15296,   230,  9480, 14997, 16566, 12335, 14340,  9553, 12005, 17017,\n",
      "         11786, 15724, 12034, 21539, 18062, 14495,   230,  9031, 11288, 15394,\n",
      "         14904, 14240, 14973, 14199, 14221,  9269, 21112, 15612, 17704, 14196,\n",
      "         10322, 12332, 15296,   230,  9480, 14997, 16566, 12335, 17672, 14044,\n",
      "         10316,  9993, 22788, 18683, 14353, 19454,   230, 11936, 18008, 14555,\n",
      "         25006,     1]]), 'token_type_ids': tensor([[0, 0, 0, 0, 0, 0, 0, 0, 0, 0, 0, 0, 0, 0, 0, 0, 0, 0, 0, 0, 0, 0, 0, 0,\n",
      "         0, 0, 0, 0, 0, 0, 0, 0, 0, 0, 0, 0, 0, 0, 0, 0, 0, 0, 0, 0, 0, 0, 0, 0,\n",
      "         0, 0, 0, 0, 0, 0, 0, 0, 0, 0, 0, 0, 0, 0, 0, 0, 0, 0, 0, 0, 0, 0, 0, 0,\n",
      "         0, 0, 0, 0, 0, 0, 0, 0, 0, 0, 0, 0, 0, 0, 0, 0, 0, 0, 0, 0, 0, 0, 0, 0,\n",
      "         0, 0, 0, 0, 0, 0, 0, 0, 0, 0, 0, 0, 0, 0, 0, 0, 0, 0, 0, 0, 0, 0, 0, 0,\n",
      "         0, 0, 0, 0, 0, 0, 0, 0, 0, 0, 0, 0, 0, 0, 0, 0, 0, 0, 0, 0, 0, 0, 0, 0,\n",
      "         0, 0, 0, 0, 0, 0, 0, 0, 0, 0, 0, 0, 0, 0, 0, 0, 0, 0, 0, 0, 0, 0, 0, 0,\n",
      "         0, 0, 0, 0, 0, 0, 0, 0, 0, 0, 0, 0, 0, 0, 0, 0, 0, 0, 0, 0, 0, 0, 0, 0,\n",
      "         0, 0, 0, 0, 0, 0, 0, 0, 0, 0, 0, 0, 0, 0, 0, 0, 0, 0, 0, 0, 0, 0, 0, 0,\n",
      "         0, 0, 0, 0, 0, 0, 0, 0, 0, 0, 0, 0, 0, 0, 0, 0, 0, 0, 0, 0, 0, 0, 0, 0,\n",
      "         0, 0, 0, 0, 0, 0, 0, 0, 0, 0, 0, 0, 0, 0, 0, 0, 0, 0, 0, 0, 0, 0, 0, 0,\n",
      "         0, 0, 0, 0, 0, 0, 0, 0]]), 'attention_mask': tensor([[1, 1, 1, 1, 1, 1, 1, 1, 1, 1, 1, 1, 1, 1, 1, 1, 1, 1, 1, 1, 1, 1, 1, 1,\n",
      "         1, 1, 1, 1, 1, 1, 1, 1, 1, 1, 1, 1, 1, 1, 1, 1, 1, 1, 1, 1, 1, 1, 1, 1,\n",
      "         1, 1, 1, 1, 1, 1, 1, 1, 1, 1, 1, 1, 1, 1, 1, 1, 1, 1, 1, 1, 1, 1, 1, 1,\n",
      "         1, 1, 1, 1, 1, 1, 1, 1, 1, 1, 1, 1, 1, 1, 1, 1, 1, 1, 1, 1, 1, 1, 1, 1,\n",
      "         1, 1, 1, 1, 1, 1, 1, 1, 1, 1, 1, 1, 1, 1, 1, 1, 1, 1, 1, 1, 1, 1, 1, 1,\n",
      "         1, 1, 1, 1, 1, 1, 1, 1, 1, 1, 1, 1, 1, 1, 1, 1, 1, 1, 1, 1, 1, 1, 1, 1,\n",
      "         1, 1, 1, 1, 1, 1, 1, 1, 1, 1, 1, 1, 1, 1, 1, 1, 1, 1, 1, 1, 1, 1, 1, 1,\n",
      "         1, 1, 1, 1, 1, 1, 1, 1, 1, 1, 1, 1, 1, 1, 1, 1, 1, 1, 1, 1, 1, 1, 1, 1,\n",
      "         1, 1, 1, 1, 1, 1, 1, 1, 1, 1, 1, 1, 1, 1, 1, 1, 1, 1, 1, 1, 1, 1, 1, 1,\n",
      "         1, 1, 1, 1, 1, 1, 1, 1, 1, 1, 1, 1, 1, 1, 1, 1, 1, 1, 1, 1, 1, 1, 1, 1,\n",
      "         1, 1, 1, 1, 1, 1, 1, 1, 1, 1, 1, 1, 1, 1, 1, 1, 1, 1, 1, 1, 1, 1, 1, 1,\n",
      "         1, 1, 1, 1, 1, 1, 1, 1]])}\n",
      "[0.11001772, 0.1091718, 0.081698835, 0.057020582, 0.05024455]\n",
      "자신있는 느긋 신뢰하는 기쁨 흥분 "
     ]
    }
   ],
   "source": [
    "eval_emo(bart1.model, f'<s>{input_text}</s>')"
   ]
  },
  {
   "cell_type": "code",
   "execution_count": null,
   "metadata": {},
   "outputs": [],
   "source": []
  },
  {
   "cell_type": "code",
   "execution_count": null,
   "metadata": {},
   "outputs": [],
   "source": []
  }
 ],
 "metadata": {
  "kernelspec": {
   "display_name": "ml_dl",
   "language": "python",
   "name": "python3"
  },
  "language_info": {
   "codemirror_mode": {
    "name": "ipython",
    "version": 3
   },
   "file_extension": ".py",
   "mimetype": "text/x-python",
   "name": "python",
   "nbconvert_exporter": "python",
   "pygments_lexer": "ipython3",
   "version": "3.10.14"
  }
 },
 "nbformat": 4,
 "nbformat_minor": 2
}
