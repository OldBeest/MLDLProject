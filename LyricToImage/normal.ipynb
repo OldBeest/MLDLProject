{
 "cells": [
  {
   "cell_type": "code",
   "execution_count": 5,
   "metadata": {},
   "outputs": [
    {
     "name": "stdout",
     "output_type": "stream",
     "text": [
      "각 감정에 대한 정규화된 가중치:\n",
      "joy: 0.07091421463336978\n",
      "sadness: 0.4788502686358811\n",
      "anger: 0.16570216349598227\n",
      "fear: 0.03152074801603475\n",
      "surprise: 0.07908269581293086\n",
      "disgust: 0.17392990940580128\n"
     ]
    }
   ],
   "source": [
    "import numpy as np\n",
    "\n",
    "# 감정별 데이터 개수\n",
    "emotion_counts = {\n",
    "    'joy': 4919,\n",
    "    'sadness': 21779,\n",
    "    'anger': 9160,\n",
    "    'fear': 8426,\n",
    "    'surprise': 2652,\n",
    "    'disgust': 1692\n",
    "}\n",
    "\n",
    "# 모델의 점수\n",
    "scores = {\n",
    "    'joy': 0.0160,\n",
    "    'sadness': 0.9078,\n",
    "    'anger': 0.0474,\n",
    "    'fear': 0.0104,\n",
    "    'surprise': 0.0056,\n",
    "    'disgust': 0.0125\n",
    "}\n",
    "\n",
    "# 점수 기반 가중치 계산 (중간값 0.5을 기준으로 가우시안 함수 적용)\n",
    "sigma = 0.1  # 가우시안 폭, 조정 가능\n",
    "def calculate_score_weight(score):\n",
    "    return np.exp(- (score - 0.5)**2 / (2 * sigma**2))\n",
    "\n",
    "# 데이터 개수 기반 가중치 계산 (개수가 많을수록 가중치 낮춤)\n",
    "def calculate_count_weight(count):\n",
    "    return 1 / count\n",
    "\n",
    "# 최종 가중치 계산\n",
    "final_weights = {}\n",
    "for emotion in scores:\n",
    "    score_weight = calculate_score_weight(scores[emotion])\n",
    "    count_weight = calculate_count_weight(emotion_counts[emotion])\n",
    "    final_weights[emotion] = score_weight * count_weight\n",
    "\n",
    "# 가중치의 총합 구하기\n",
    "total_weight = sum(final_weights.values())\n",
    "\n",
    "# 가중치 정규화 (총합을 1로 맞추기)\n",
    "normalized_weights = {emotion: weight / total_weight for emotion, weight in final_weights.items()}\n",
    "\n",
    "# 결과 출력\n",
    "print(\"각 감정에 대한 정규화된 가중치:\")\n",
    "for emotion, weight in normalized_weights.items():\n",
    "    print(f\"{emotion}: {weight}\")\n"
   ]
  }
 ],
 "metadata": {
  "kernelspec": {
   "display_name": "ml_dl",
   "language": "python",
   "name": "python3"
  },
  "language_info": {
   "codemirror_mode": {
    "name": "ipython",
    "version": 3
   },
   "file_extension": ".py",
   "mimetype": "text/x-python",
   "name": "python",
   "nbconvert_exporter": "python",
   "pygments_lexer": "ipython3",
   "version": "3.10.14"
  }
 },
 "nbformat": 4,
 "nbformat_minor": 2
}
