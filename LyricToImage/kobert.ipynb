{
 "cells": [
  {
   "cell_type": "code",
   "execution_count": 7,
   "metadata": {},
   "outputs": [],
   "source": [
    "from transformers import BertModel\n",
    "from keybert import KeyBERT\n",
    "from mecab import MeCab\n",
    "\n",
    "model = BertModel.from_pretrained('skt/kobert-base-v1')"
   ]
  },
  {
   "cell_type": "code",
   "execution_count": 2,
   "metadata": {},
   "outputs": [],
   "source": [
    "kw_model = KeyBERT(model)"
   ]
  },
  {
   "cell_type": "code",
   "execution_count": 63,
   "metadata": {},
   "outputs": [],
   "source": [
    "lyrics = \"\"\"\n",
    "내 어린 시절 우연히\n",
    "들었던 믿지 못할 한마디\n",
    "이 세상을 다 준다는 매혹적인 얘기\n",
    "내게 꿈을 심어주었어\n",
    "말도 안돼 고개 저어도\n",
    "내 안에 나 나를 보고 속삭여\n",
    "세상은 꿈꾸는 자의 것이라고\n",
    "용기를 내 넌 할 수 있어\n",
    "쉼 없이 흘러가는 시간\n",
    "이대로 보낼 수는 없잖아\n",
    "함께 도전하는 거야\n",
    "너와 나 두 손을 잡고\n",
    "우리들 모두의 꿈을 모아서\n",
    "외로움과 두려움이\n",
    "우릴 힘들게 하여도\n",
    "결코 피하지 않아\n",
    "끝없이 펼쳐진 드넓은 바다에\n",
    "희망이 우리를 부르니까\n",
    "거센 바람 높은 파도가\n",
    "우리 앞길 막아서도\n",
    "결코 두렵지 않아\n",
    "끝없이 펼쳐진 수많은 시련들\n",
    "밝은 내일 위한 거야\n",
    "말도 안돼 고개 저어도\n",
    "내 안에 나 나를 보고 속삭여\n",
    "세상은 꿈꾸는 자의 것이라고\n",
    "용기를 내 넌 할 수 있어\n",
    "쉼 없이 흘러가는 시간\n",
    "이대로 보낼 수는 없잖아\n",
    "함께 도전하는 거야\n",
    "너와 나 두 손을 잡고\n",
    "우리들 모두의 꿈을 모아서\n",
    "외로움과 두려움이\n",
    "우릴 힘들게 하여도\n",
    "결코 피하지 않아\n",
    "끝없이 펼쳐진 드넓은 바다에\n",
    "희망이 우리를 부르니까\n",
    "거센 바람 높은 파도가\n",
    "우리 앞길 막아서도\n",
    "결코 두렵지 않아\n",
    "끝없이 펼쳐진 수많은 시련들\n",
    "밝은 내일 위한 거야\n",
    "원피스\n",
    "\"\"\".replace(\"\\n\", ' ').strip()"
   ]
  },
  {
   "cell_type": "code",
   "execution_count": 68,
   "metadata": {},
   "outputs": [
    {
     "name": "stdout",
     "output_type": "stream",
     "text": [
      "어린 VA+ETM\n",
      "시절 NNG\n",
      "한마디 NNG\n",
      "세상 NNG\n",
      "매혹 NNG\n",
      "얘기 NNG\n",
      "꿈 NNG\n",
      "말 NNG\n",
      "고개 NNG\n",
      "저어 NNG\n",
      "안 NNG\n",
      "세상 NNG\n",
      "용기 NNG\n",
      "쉼 NNG\n",
      "시간 NNG\n",
      "없 VA\n",
      "도전 NNG\n",
      "손 NNG\n",
      "모두 NNG\n",
      "꿈 NNG\n",
      "외로움 NNG\n",
      "두려움 NNG\n",
      "힘들 VA\n",
      "드넓 VA\n",
      "바다 NNG\n",
      "희망 NNG\n",
      "거센 VA+ETM\n",
      "바람 NNG\n",
      "높 VA\n",
      "파도 NNG\n",
      "앞길 NNG\n",
      "두렵 VA\n",
      "수많 VA\n",
      "시련 NNG\n",
      "밝 VA\n",
      "내일 NNG\n",
      "말 NNG\n",
      "고개 NNG\n",
      "저어 NNG\n",
      "안 NNG\n",
      "세상 NNG\n",
      "용기 NNG\n",
      "쉼 NNG\n",
      "시간 NNG\n",
      "없 VA\n",
      "도전 NNG\n",
      "손 NNG\n",
      "모두 NNG\n",
      "꿈 NNG\n",
      "외로움 NNG\n",
      "두려움 NNG\n",
      "힘들 VA\n",
      "드넓 VA\n",
      "바다 NNG\n",
      "희망 NNG\n",
      "거센 VA+ETM\n",
      "바람 NNG\n",
      "높 VA\n",
      "파도 NNG\n",
      "앞길 NNG\n",
      "두렵 VA\n",
      "수많 VA\n",
      "시련 NNG\n",
      "밝 VA\n",
      "내일 NNG\n",
      "원피스 NNG\n"
     ]
    }
   ],
   "source": [
    "mecab = MeCab()\n",
    "m_list = {}\n",
    "parse_lyric = mecab.parse(lyrics)\n",
    "for morpheme in parse_lyric:\n",
    "    if(morpheme.feature.pos.startswith(('NNG', 'VA'))):\n",
    "        if(morpheme.surface not in m_list.keys()):\n",
    "            m_list[morpheme.surface] = 0\n",
    "            m_list[morpheme.surface] += 1\n",
    "        m_list[morpheme.surface] += 1\n",
    "        print(morpheme.surface ,morpheme.feature.pos)\n",
    "\n",
    "# m_list_text = ' '.join(m_list)\n",
    "# m_list_text"
   ]
  },
  {
   "cell_type": "code",
   "execution_count": 69,
   "metadata": {},
   "outputs": [],
   "source": [
    "m_list = dict(sorted(m_list.items(), key=lambda x: x[1], reverse=True))"
   ]
  },
  {
   "cell_type": "code",
   "execution_count": 72,
   "metadata": {},
   "outputs": [
    {
     "data": {
      "text/plain": [
       "{'세상': 4,\n",
       " '꿈': 4,\n",
       " '말': 3,\n",
       " '고개': 3,\n",
       " '저어': 3,\n",
       " '안': 3,\n",
       " '용기': 3,\n",
       " '쉼': 3,\n",
       " '시간': 3,\n",
       " '없': 3,\n",
       " '도전': 3,\n",
       " '손': 3,\n",
       " '모두': 3,\n",
       " '외로움': 3,\n",
       " '두려움': 3,\n",
       " '힘들': 3,\n",
       " '드넓': 3,\n",
       " '바다': 3,\n",
       " '희망': 3,\n",
       " '거센': 3,\n",
       " '바람': 3,\n",
       " '높': 3,\n",
       " '파도': 3,\n",
       " '앞길': 3,\n",
       " '두렵': 3,\n",
       " '수많': 3,\n",
       " '시련': 3,\n",
       " '밝': 3,\n",
       " '내일': 3,\n",
       " '어린': 2,\n",
       " '시절': 2,\n",
       " '한마디': 2,\n",
       " '매혹': 2,\n",
       " '얘기': 2,\n",
       " '원피스': 2}"
      ]
     },
     "execution_count": 72,
     "metadata": {},
     "output_type": "execute_result"
    }
   ],
   "source": [
    "m_list"
   ]
  },
  {
   "cell_type": "code",
   "execution_count": 29,
   "metadata": {},
   "outputs": [
    {
     "data": {
      "text/plain": [
       "[('우리 사랑', 0.6109),\n",
       " ('사랑 우리', 0.5863),\n",
       " ('사랑', 0.5678),\n",
       " ('우리 추억', 0.5547),\n",
       " ('우리 다시', 0.5391),\n",
       " ('견디 힘들', 0.5357),\n",
       " ('다시 만나', 0.5322),\n",
       " ('이러 너무', 0.5281),\n",
       " ('함께 기억', 0.5273),\n",
       " ('나가 지만', 0.5271),\n",
       " ('지만 이제', 0.5213),\n",
       " ('이젠 나가', 0.5213),\n",
       " ('나쁘 만들', 0.509),\n",
       " ('자꾸 피해', 0.5072),\n",
       " ('추억 우리', 0.5069),\n",
       " ('아프 지만', 0.5054),\n",
       " ('많이 힘들', 0.5046),\n",
       " ('조금 이해', 0.4999),\n",
       " ('이제 와서', 0.4997),\n",
       " ('지만 이젠', 0.4989)]"
      ]
     },
     "execution_count": 29,
     "metadata": {},
     "output_type": "execute_result"
    }
   ],
   "source": [
    "kw_model.extract_keywords(m_list_text, keyphrase_ngram_range=(1, 2), top_n=20)"
   ]
  },
  {
   "cell_type": "code",
   "execution_count": null,
   "metadata": {},
   "outputs": [],
   "source": []
  }
 ],
 "metadata": {
  "kernelspec": {
   "display_name": "ml_dl",
   "language": "python",
   "name": "python3"
  },
  "language_info": {
   "codemirror_mode": {
    "name": "ipython",
    "version": 3
   },
   "file_extension": ".py",
   "mimetype": "text/x-python",
   "name": "python",
   "nbconvert_exporter": "python",
   "pygments_lexer": "ipython3",
   "version": "3.10.14"
  }
 },
 "nbformat": 4,
 "nbformat_minor": 2
}
