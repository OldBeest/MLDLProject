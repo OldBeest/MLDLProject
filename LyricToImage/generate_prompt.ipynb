{
 "cells": [
  {
   "cell_type": "code",
   "execution_count": 2,
   "metadata": {},
   "outputs": [],
   "source": [
    "from transformers import AutoTokenizer, AutoModelForCausalLM\n",
    "import torch"
   ]
  },
  {
   "cell_type": "code",
   "execution_count": 3,
   "metadata": {},
   "outputs": [
    {
     "data": {
      "application/vnd.jupyter.widget-view+json": {
       "model_id": "4114a2f8004d47b181bb1cb381868154",
       "version_major": 2,
       "version_minor": 0
      },
      "text/plain": [
       "Loading checkpoint shards:   0%|          | 0/4 [00:00<?, ?it/s]"
      ]
     },
     "metadata": {},
     "output_type": "display_data"
    },
    {
     "name": "stderr",
     "output_type": "stream",
     "text": [
      "Some parameters are on the meta device because they were offloaded to the cpu and disk.\n"
     ]
    }
   ],
   "source": [
    "model_id = \"beomi/Llama-3-Open-Ko-8B-Instruct-preview\"\n",
    "\n",
    "tokenizer = AutoTokenizer.from_pretrained(model_id)\n",
    "model = AutoModelForCausalLM.from_pretrained(\n",
    "    model_id,\n",
    "    torch_dtype=\"auto\",\n",
    "    device_map=\"auto\",\n",
    ")"
   ]
  },
  {
   "cell_type": "code",
   "execution_count": 27,
   "metadata": {},
   "outputs": [],
   "source": [
    "emotion_list = [('Joy', 0.7897149510681629), ('Disgust', 0.10675244318554178), ('Sadness', 0.07509662717347965), ('Anger', 0.01339526695664972), ('Fear', 0.009518425795249641), ('Surprise', 0.005522291059605777)]\n",
    "keyword_list = ['목소리', '미소', '행복', '온도', '자장가', '슬플', '힘들', '바라', '눈물', '손길']\n",
    "color_list = [['Joy', 'green'], ['Joy', 'pink'], ['Joy', 'light blue'], ['Joy', 'orange']]"
   ]
  },
  {
   "cell_type": "code",
   "execution_count": 28,
   "metadata": {},
   "outputs": [],
   "source": [
    "emotion_text = ''\n",
    "for item in emotion_list:\n",
    "  emo = item[0]\n",
    "  score = item[1]\n",
    "  result = f'{item[0]}: {item[1]:.3f}, '\n",
    "  emotion_text += result\n",
    "emotion_text = emotion_text.strip()\n",
    "keyword_text = ', '.join(keyword_list)\n",
    "colors = []\n",
    "for color in color_list:\n",
    "  colors.append(color[1])\n",
    "colors = list(set(colors))\n",
    "color_text = ', '.join(colors)"
   ]
  },
  {
   "cell_type": "code",
   "execution_count": 29,
   "metadata": {},
   "outputs": [
    {
     "data": {
      "text/plain": [
       "'목소리, 미소, 행복, 온도, 자장가, 슬플, 힘들, 바라, 눈물, 손길'"
      ]
     },
     "execution_count": 29,
     "metadata": {},
     "output_type": "execute_result"
    }
   ],
   "source": [
    "keyword_text"
   ]
  },
  {
   "cell_type": "code",
   "execution_count": 30,
   "metadata": {},
   "outputs": [
    {
     "name": "stderr",
     "output_type": "stream",
     "text": [
      "The attention mask and the pad token id were not set. As a consequence, you may observe unexpected behavior. Please pass your input's `attention_mask` to obtain reliable results.\n",
      "Setting `pad_token_id` to `eos_token_id`:None for open-end generation.\n"
     ]
    },
    {
     "name": "stdout",
     "output_type": "stream",
     "text": [
      "I can see a beautiful scene where a person is surrounded by warm pink and green lights, with a subtle smile on their face. Their eyes are shining bright with joy, and their hair is dancing in the soft light breeze. The air is filled with the sweet scent of blooming flowers, and the atmosphere is warm and cozy, making you feel comforted. The gentle voice of a gentle melody resonates in the background, soothing the soul. The person's hands are held by a gentle, loving hand, and tears of joy and relief are glistening on their cheeks. The emotions are harmonized\n"
     ]
    }
   ],
   "source": [
    "messages = [\n",
    "    {\"role\": \"system\", \"content\": \"You are an illustration creation AI that can create a scene in a very sensuous and emotional way. Express complex emotions in detail based on emotion ratio, keyword details, and color details. and describe it in 450 characters or less.\"},\n",
    "    {\"role\": \"user\", \"content\": f\"The emotion ratio is '{emotion_text}', the keyword is '{keyword_text}', and finally the color is '{color_text}'. Based on this, think of a scene or illustration and describe it.\"},\n",
    "]\n",
    "\n",
    "\n",
    "input_ids = tokenizer.apply_chat_template(\n",
    "    messages,\n",
    "    add_generation_prompt=True,\n",
    "    return_tensors=\"pt\"\n",
    ").to(model.device)\n",
    "\n",
    "terminators = [\n",
    "    tokenizer.eos_token_id,\n",
    "    tokenizer.convert_tokens_to_ids(\"<|eot_id|>\")\n",
    "]\n",
    "\n",
    "outputs = model.generate(\n",
    "    input_ids,\n",
    "    max_new_tokens=120,\n",
    "    eos_token_id=terminators,\n",
    "    do_sample=True,\n",
    "    temperature=1,\n",
    "    top_p=0.9,\n",
    ")\n",
    "response = outputs[0][input_ids.shape[-1]:]\n",
    "print(tokenizer.decode(response, skip_special_tokens=True))"
   ]
  }
 ],
 "metadata": {
  "kernelspec": {
   "display_name": "ml_dl",
   "language": "python",
   "name": "python3"
  },
  "language_info": {
   "codemirror_mode": {
    "name": "ipython",
    "version": 3
   },
   "file_extension": ".py",
   "mimetype": "text/x-python",
   "name": "python",
   "nbconvert_exporter": "python",
   "pygments_lexer": "ipython3",
   "version": "3.10.14"
  }
 },
 "nbformat": 4,
 "nbformat_minor": 2
}
